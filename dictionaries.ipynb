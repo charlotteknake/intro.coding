{
 "cells": [
  {
   "cell_type": "markdown",
   "id": "19d8197d",
   "metadata": {},
   "source": [
    "# Problem 1\n",
    "Exercise 1\n",
    "Given the following dictionary (copy/paste into your IDE):\n",
    "\n",
    "inventory = {'gold' : 500,\n",
    "  \t\t\t'pouch' : ['flint', 'twine', 'gemstone'],\n",
    "  \t \t\t'backpack' : ['xylophone', 'dagger', 'bedroll', 'bread loaf']}\n",
    "\n",
    "\n",
    "Using Dictionary methods do the following:\n",
    "Add a key to inventory called 'pocket'.\n",
    "Set the value of 'pocket' to be a list consisting of the strings 'seashell', \n",
    "'strange berry', and 'lint'.\n",
    ".sort() the items in the list stored under the 'backpack' key.\n",
    "Then .remove('dagger') from the list of items stored under the 'backpack' key.\n",
    "Add 50 to the number stored under the 'gold' key (the directions here are to “Add” so your code should show the addition)."
   ]
  },
  {
   "cell_type": "code",
   "execution_count": 184,
   "id": "3f6e228e",
   "metadata": {},
   "outputs": [
    {
     "name": "stdout",
     "output_type": "stream",
     "text": [
      "{'gold': 550, 'pouch': ['flint', 'twine', 'gemstone'], 'backpack': ['xylophone', 'bedroll', 'bread loaf'], 'pocket': {'lint', 'seashell', 'strange berry'}}\n"
     ]
    }
   ],
   "source": [
    "\n",
    "inventory = {'gold' : 500,'pouch' : ['flint', 'twine', 'gemstone'],'backpack' : ['xylophone', 'dagger', 'bedroll', 'bread loaf']}\n",
    "inventory[\"pocket\"] = {'seashell', 'strange berry', 'lint'}\n",
    "inventory[\"backpack\"].remove(\"dagger\")\n",
    "inventory[\"gold\"] += 50\n",
    "print(inventory)"
   ]
  },
  {
   "cell_type": "markdown",
   "id": "9434ef56",
   "metadata": {},
   "source": [
    "Exercise 2\n",
    "Write a Python function that takes an integer as a parameter and returns a dictionary that contains a key/value pairs in the form {x: x*x} where x is all values from 1 to n.\n",
    "\n",
    "Sample call:\t\t\tn_squares(5)\n",
    "Expected Output : \t\t{1: 1, 2: 4, 3: 9, 4: 16, 5: 25}"
   ]
  },
  {
   "cell_type": "code",
   "execution_count": 185,
   "id": "f24fe4ab",
   "metadata": {},
   "outputs": [
    {
     "name": "stdout",
     "output_type": "stream",
     "text": [
      "{1: 1, 2: 4, 3: 9, 4: 16, 5: 25}\n"
     ]
    }
   ],
   "source": [
    "def n_squares(integer):\n",
    "    squared = {}\n",
    "    for num in range(1, integer +1):\n",
    "        squared[num] = num*num\n",
    "    print(squared)\n",
    "\n",
    "n_squares(5)"
   ]
  },
  {
   "cell_type": "markdown",
   "id": "493ab722",
   "metadata": {},
   "source": [
    "Exercise 3\n",
    "Write a Python function that takes 2 lists as parameters and returns the two lists merged into a dictionary, where the elements of the first list are the keys and the elements of the 2nd list are the values.\n",
    "\n",
    "key_list = ['integer', 'list', 'string', 'tuple']\n",
    "val_list = [30, ['this', 'is', 'a', 'list'], 'this is a string', ('this', 'is', 'a', 'tuple')]\n",
    "\n",
    "Expected Output: \t{'integer': 30, \n",
    "'list': ['this', 'is', 'a', 'list'], \n",
    "'string': 'this is a string', \n",
    "'tuple': ('this', 'is', 'a', 'tuple')}\n"
   ]
  },
  {
   "cell_type": "code",
   "execution_count": 186,
   "id": "214d19c9",
   "metadata": {},
   "outputs": [
    {
     "name": "stdout",
     "output_type": "stream",
     "text": [
      "{'integer': 30, 'list': ['this', 'is', 'a', 'list'], 'string': 'this is a string', 'tuple': ('this', 'is', 'a', 'tuple')}\n"
     ]
    }
   ],
   "source": [
    "def two_lists(fir, second):\n",
    "    merge = { }\n",
    "    for index, value in enumerate(fir):\n",
    "        merge[fir[index]] = second[index]\n",
    "    print(merge)\n",
    "\n",
    "key_list = ['integer', 'list', 'string', 'tuple']\n",
    "val_list = [30, ['this', 'is', 'a', 'list'], 'this is a string', ('this', 'is', 'a', 'tuple')]\n",
    "two_lists(key_list, val_list)"
   ]
  },
  {
   "cell_type": "markdown",
   "id": "f37e6fbd",
   "metadata": {},
   "source": [
    "Exercise 4\n",
    "Write a Python function to combine two dictionaries adding values for common keys. \n",
    "\n",
    "d1 = {'a': 100, 'b': 200, 'c':300}\n",
    "d2 = {'a': 300, 'b': 200, 'd':400}\n",
    "\n",
    "Sample output: \t{'a': 400, 'b': 400, 'd': 400, 'c': 300}"
   ]
  },
  {
   "cell_type": "code",
   "execution_count": 187,
   "id": "34950e10",
   "metadata": {},
   "outputs": [
    {
     "ename": "KeyError",
     "evalue": "('a', 300)",
     "output_type": "error",
     "traceback": [
      "\u001b[31m---------------------------------------------------------------------------\u001b[39m",
      "\u001b[31mKeyError\u001b[39m                                  Traceback (most recent call last)",
      "\u001b[36mCell\u001b[39m\u001b[36m \u001b[39m\u001b[32mIn[187]\u001b[39m\u001b[32m, line 13\u001b[39m\n\u001b[32m     11\u001b[39m d1 = {\u001b[33m'\u001b[39m\u001b[33ma\u001b[39m\u001b[33m'\u001b[39m: \u001b[32m100\u001b[39m, \u001b[33m'\u001b[39m\u001b[33mb\u001b[39m\u001b[33m'\u001b[39m: \u001b[32m200\u001b[39m, \u001b[33m'\u001b[39m\u001b[33mc\u001b[39m\u001b[33m'\u001b[39m:\u001b[32m300\u001b[39m}\n\u001b[32m     12\u001b[39m d2 = {\u001b[33m'\u001b[39m\u001b[33ma\u001b[39m\u001b[33m'\u001b[39m: \u001b[32m300\u001b[39m, \u001b[33m'\u001b[39m\u001b[33mb\u001b[39m\u001b[33m'\u001b[39m: \u001b[32m200\u001b[39m, \u001b[33m'\u001b[39m\u001b[33md\u001b[39m\u001b[33m'\u001b[39m:\u001b[32m400\u001b[39m}\n\u001b[32m---> \u001b[39m\u001b[32m13\u001b[39m \u001b[43mcombine_val\u001b[49m\u001b[43m(\u001b[49m\u001b[43md1\u001b[49m\u001b[43m,\u001b[49m\u001b[43m \u001b[49m\u001b[43md2\u001b[49m\u001b[43m)\u001b[49m\n",
      "\u001b[36mCell\u001b[39m\u001b[36m \u001b[39m\u001b[32mIn[187]\u001b[39m\u001b[32m, line 8\u001b[39m, in \u001b[36mcombine_val\u001b[39m\u001b[34m(dict1, dict2)\u001b[39m\n\u001b[32m      6\u001b[39m     \u001b[38;5;28;01melif\u001b[39;00m keys \u001b[38;5;129;01min\u001b[39;00m dict1:\n\u001b[32m      7\u001b[39m         \u001b[38;5;28;01mfor\u001b[39;00m keys \u001b[38;5;129;01min\u001b[39;00m dict2.items():\n\u001b[32m----> \u001b[39m\u001b[32m8\u001b[39m             \u001b[43mdict1\u001b[49m\u001b[43m[\u001b[49m\u001b[43mkeys\u001b[49m\u001b[43m]\u001b[49m += vals\n\u001b[32m      9\u001b[39m \u001b[38;5;28mprint\u001b[39m(dict1)\n",
      "\u001b[31mKeyError\u001b[39m: ('a', 300)"
     ]
    }
   ],
   "source": [
    "def combine_val(dict1, dict2):\n",
    "\n",
    "    for keys,vals in dict2.items():\n",
    "        if keys not in dict1:\n",
    "            dict1[keys] = vals\n",
    "        elif keys in dict1:\n",
    "            for keys in dict2.items():\n",
    "                dict1[keys] += vals\n",
    "    print(dict1)\n",
    "\n",
    "d1 = {'a': 100, 'b': 200, 'c':300}\n",
    "d2 = {'a': 300, 'b': 200, 'd':400}\n",
    "combine_val(d1, d2)"
   ]
  },
  {
   "cell_type": "markdown",
   "id": "9b250fd0",
   "metadata": {},
   "source": [
    "Exercise 5\n",
    "Write a Python function that takes a string as a parameter and returns a dictionary that tracks the count of the letters from the string. \n",
    "\n",
    "Sample string: \t'Portland High School'\n",
    "Expected Output:\t{'p': 1, 'o': 3, 'r': 1, 't': 1, 'l': 2, 'a': 1, 'n': 1, 'd': 1, \n",
    "'h': 3, 'i': 1, 'g': 1, 's': 1, 'c': 1}\n"
   ]
  },
  {
   "cell_type": "code",
   "execution_count": 188,
   "id": "af70178d",
   "metadata": {},
   "outputs": [
    {
     "name": "stdout",
     "output_type": "stream",
     "text": [
      "{'p': 1, 'o': 3, 'r': 1, 't': 1, 'l': 2, 'a': 1, 'n': 1, 'd': 1, 'h': 3, 'i': 1, 'g': 1, 's': 1, 'c': 1}\n"
     ]
    }
   ],
   "source": [
    "def trackcount(samp_string):\n",
    "    countdict = {}\n",
    "    delet_space = samp_string.replace(\" \", \"\")\n",
    "    lower = delet_space.lower()\n",
    "    for char in lower:  \n",
    "        countdict[char]= lower.count(char)\n",
    "    print(countdict)\n",
    "trackcount(\"Portland High School\")"
   ]
  },
  {
   "cell_type": "markdown",
   "id": "cf8094a7",
   "metadata": {},
   "source": [
    "Exercise 6\n",
    "Write a Python function that takes a dictionary as a parameter and returns the top three items in a shop. \n",
    "\n",
    "Sample data: \t{'item1': 45.50, 'item2':35, 'item3': 41.30, \n",
    "'item4':55, 'item5': 24}\n",
    "\n",
    "Expected Output:\n",
    "item4 55\n",
    "item1 45.5\n",
    "item3 41.3\n"
   ]
  },
  {
   "cell_type": "code",
   "execution_count": null,
   "id": "1dc2fb7c",
   "metadata": {},
   "outputs": [],
   "source": [
    "def topThree(item_dict):\n",
    "    for keys, values in item_dict.items():\n",
    "        \n",
    "\n",
    "\n",
    "topThree({'item1': 45.50, 'item2':35, 'item3': 41.30, 'item4':55, 'item5': 24})"
   ]
  }
 ],
 "metadata": {
  "kernelspec": {
   "display_name": "Python 3",
   "language": "python",
   "name": "python3"
  },
  "language_info": {
   "codemirror_mode": {
    "name": "ipython",
    "version": 3
   },
   "file_extension": ".py",
   "mimetype": "text/x-python",
   "name": "python",
   "nbconvert_exporter": "python",
   "pygments_lexer": "ipython3",
   "version": "3.12.1"
  }
 },
 "nbformat": 4,
 "nbformat_minor": 5
}
